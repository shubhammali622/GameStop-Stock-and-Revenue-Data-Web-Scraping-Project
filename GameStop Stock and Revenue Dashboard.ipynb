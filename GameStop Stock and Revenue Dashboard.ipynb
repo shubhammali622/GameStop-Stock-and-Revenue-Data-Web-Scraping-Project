{
 "cells": [
  {
   "cell_type": "code",
   "execution_count": 11,
   "id": "12a9272d",
   "metadata": {},
   "outputs": [],
   "source": [
    "import dash\n",
    "from dash import dcc, html\n",
    "import yfinance as yf\n",
    "import plotly.graph_objs as go"
   ]
  },
  {
   "cell_type": "code",
   "execution_count": 12,
   "id": "c652eec1",
   "metadata": {},
   "outputs": [],
   "source": [
    "# Function to get GameStop stock data\n",
    "def get_gamestop_stock_data():\n",
    "    gamestop_data = yf.download(\"GME\", start=\"2021-01-01\", end=\"2022-01-01\")\n",
    "    return gamestop_data\n",
    "\n",
    "# Function to create graph\n",
    "def make_graph(data, title):\n",
    "    graph = dcc.Graph(\n",
    "        figure={\n",
    "            'data': [go.Scatter(x=data.index, y=data['Close'], mode='lines')],\n",
    "            'layout': {\n",
    "                'title': title,\n",
    "                'xaxis': {'title': 'Date'},\n",
    "                'yaxis': {'title': 'Close Price'}\n",
    "            }\n",
    "        },\n",
    "        id=title.lower().replace(' ', '-')\n",
    "    )\n",
    "    return graph\n",
    "\n"
   ]
  },
  {
   "cell_type": "code",
   "execution_count": 13,
   "id": "db1d3e27",
   "metadata": {},
   "outputs": [
    {
     "name": "stderr",
     "output_type": "stream",
     "text": [
      "[*********************100%%**********************]  1 of 1 completed\n"
     ]
    }
   ],
   "source": [
    "# Get GameStop stock data\n",
    "gamestop_stock_data = get_gamestop_stock_data()\n",
    "\n",
    "# Create Dash app\n",
    "app = dash.Dash(__name__)\n",
    "\n",
    "# Create layout\n",
    "app.layout = html.Div([\n",
    "    html.H1(\"GameStop Stock Data\"),\n",
    "    make_graph(gamestop_stock_data, \"GameStop Stock Close Price\")\n",
    "])"
   ]
  },
  {
   "cell_type": "code",
   "execution_count": 14,
   "id": "2556587d",
   "metadata": {},
   "outputs": [
    {
     "data": {
      "text/html": [
       "\n",
       "        <iframe\n",
       "            width=\"100%\"\n",
       "            height=\"650\"\n",
       "            src=\"http://127.0.0.1:8052/\"\n",
       "            frameborder=\"0\"\n",
       "            allowfullscreen\n",
       "            \n",
       "        ></iframe>\n",
       "        "
      ],
      "text/plain": [
       "<IPython.lib.display.IFrame at 0x20005968f50>"
      ]
     },
     "metadata": {},
     "output_type": "display_data"
    }
   ],
   "source": [
    "# Specify a different port to avoid conflicts\n",
    "port = 8052\n",
    "\n",
    "# Run the app\n",
    "if __name__ == \"__main__\":\n",
    "    app.run_server(debug=True, port=port)"
   ]
  },
  {
   "cell_type": "code",
   "execution_count": null,
   "id": "e56d4eb5",
   "metadata": {},
   "outputs": [],
   "source": [
    " "
   ]
  }
 ],
 "metadata": {
  "kernelspec": {
   "display_name": "Python 3 (ipykernel)",
   "language": "python",
   "name": "python3"
  },
  "language_info": {
   "codemirror_mode": {
    "name": "ipython",
    "version": 3
   },
   "file_extension": ".py",
   "mimetype": "text/x-python",
   "name": "python",
   "nbconvert_exporter": "python",
   "pygments_lexer": "ipython3",
   "version": "3.11.7"
  }
 },
 "nbformat": 4,
 "nbformat_minor": 5
}
